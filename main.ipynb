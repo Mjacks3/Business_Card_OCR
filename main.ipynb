{
 "cells": [
  {
   "cell_type": "code",
   "execution_count": null,
   "metadata": {},
   "outputs": [],
   "source": [
    "\"\"\" \n",
    "Specifications\n",
    "ContactInfo\n",
    "    String getName() : returns the full name of the individual (eg. John Smith, Susan Malick)\n",
    "    String getPhoneNumber() : returns the phone number formatted as a sequence of digits\n",
    "    String getEmailAddress() : returns the email address\n",
    "\n",
    "BusinessCardParser\n",
    "    ContactInfo getContactInfo(String document)\n",
    "\n",
    "\"\"\""
   ]
  },
  {
   "cell_type": "code",
   "execution_count": 18,
   "metadata": {},
   "outputs": [
    {
     "name": "stdout",
     "output_type": "stream",
     "text": [
      "ASYMMETRIK LTD\n",
      "Mike Smith\n",
      "Senior Software Engineer\n",
      "(410)555-1234\n",
      "msmith@asymmetrik.com\n"
     ]
    }
   ],
   "source": [
    "#Will port to regular python later.\n",
    "test = \"\"\"ASYMMETRIK LTD\n",
    "Mike Smith\n",
    "Senior Software Engineer\n",
    "(410)555-1234\n",
    "msmith@asymmetrik.com\"\"\"\n",
    "\n",
    "print (test)"
   ]
  },
  {
   "cell_type": "code",
   "execution_count": null,
   "metadata": {},
   "outputs": [],
   "source": []
  },
  {
   "cell_type": "code",
   "execution_count": 14,
   "metadata": {},
   "outputs": [
    {
     "name": "stdout",
     "output_type": "stream",
     "text": [
      "ASYMMETRIK LTD\n",
      "Mike Smith\n",
      "Senior Software Engineer\n",
      "(410)555-1234\n",
      "msmith@asymmetrik.com\n"
     ]
    }
   ],
   "source": []
  },
  {
   "cell_type": "code",
   "execution_count": 15,
   "metadata": {},
   "outputs": [
    {
     "name": "stdout",
     "output_type": "stream",
     "text": [
      "['ASYMMETRIK LTD', 'Mike Smith', 'Senior Software Engineer', '(410)555-1234', 'msmith@asymmetrik.com']\n"
     ]
    }
   ],
   "source": [
    "#Assumption: businesss card will have each field on a separate line\n",
    "#if so,  use split lines to parse individually\n",
    "print (test.splitlines())"
   ]
  },
  {
   "cell_type": "code",
   "execution_count": 16,
   "metadata": {},
   "outputs": [],
   "source": [
    "#Phone Logic"
   ]
  },
  {
   "cell_type": "code",
   "execution_count": 12,
   "metadata": {},
   "outputs": [],
   "source": [
    "#Name Logic"
   ]
  },
  {
   "cell_type": "code",
   "execution_count": null,
   "metadata": {},
   "outputs": [],
   "source": [
    "#Email Logic"
   ]
  }
 ],
 "metadata": {
  "kernelspec": {
   "display_name": "Python 3",
   "language": "python",
   "name": "python3"
  },
  "language_info": {
   "codemirror_mode": {
    "name": "ipython",
    "version": 3
   },
   "file_extension": ".py",
   "mimetype": "text/x-python",
   "name": "python",
   "nbconvert_exporter": "python",
   "pygments_lexer": "ipython3",
   "version": "3.6.4"
  }
 },
 "nbformat": 4,
 "nbformat_minor": 2
}
