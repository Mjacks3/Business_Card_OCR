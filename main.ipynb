{
 "cells": [
  {
   "cell_type": "code",
   "execution_count": null,
   "metadata": {},
   "outputs": [],
   "source": [
    "\"\"\" \n",
    "Specifications\n",
    "\n",
    "ContactInfo\n",
    "    String getName() : returns the full name of the individual (eg. John Smith, Susan Malick)\n",
    "    String getPhoneNumber() : returns the phone number formatted as a sequence of digits\n",
    "    String getEmailAddress() : returns the email address\n",
    "\n",
    "BusinessCardParser\n",
    "    ContactInfo getContactInfo(String document)\n",
    "\n",
    "\"\"\"\n",
    "from nltk import word_tokenize, pos_tag, ne_chunk"
   ]
  },
  {
   "cell_type": "code",
   "execution_count": 83,
   "metadata": {},
   "outputs": [],
   "source": [
    "class ContactInfo:\n",
    "  def __init__(self,document):\n",
    "        self.document = document\n",
    "        self.name = \"\"\n",
    "        self.phone = \"\"\n",
    "        self.email = \"\"\n",
    "        \n",
    "        self.getName()\n",
    "        self.getPhoneNumber()\n",
    "        self.getEmailAddress()\n",
    "        self.print_info()\n",
    "    \n",
    "  def getName(self):\n",
    "        split_doc = self.document.splitlines()\n",
    "        \n",
    "        for line in split_doc:\n",
    "            annotated_chunks = nltk.ne_chunk(nltk.pos_tag(nltk.word_tokenize(line)))\n",
    "            for single_chunk, source_word  in zip(annotated_chunks, line.split()):\n",
    "                    try:\n",
    "                            if single_chunk.label() == \"PERSON\":\n",
    "                                self.name += source_word\n",
    "                                self.name += \" \"\n",
    "                    except AttributeError:\n",
    "                        pass\n",
    "    \n",
    "  def getPhoneNumber(self):\n",
    "        #ASSUMPTION: all 10 digits of phone will be present in business card (some people leave out/leave assumed area code)\n",
    "        split_doc =  self.document.splitlines()\n",
    "\n",
    "        for line in split_doc:\n",
    "            potiential_phone_number = \"\"\n",
    "\n",
    "            for char in line:\n",
    "                if char.isnumeric():\n",
    "                    potiential_phone_number += char\n",
    "\n",
    "            if len(potiential_phone_number) == 10:\n",
    "                self.phone = potiential_phone_number \n",
    "    \n",
    "  def getEmailAddress(self):\n",
    "        split_doc =  self.document.splitlines()\n",
    "\n",
    "        for line in split_doc:\n",
    "            if \"@\" in line:\n",
    "                for chunk in line.split():\n",
    "                    if \"@\" in chunk:\n",
    "                        self.email = chunk\n",
    "                        \n",
    "    \n",
    "  def print_info(self):       \n",
    "        print(\"Name:\", self.name)\n",
    "        print(\"Phone:\",self.phone)\n",
    "        print(\"Email:\",self.email)\n"
   ]
  },
  {
   "cell_type": "code",
   "execution_count": 51,
   "metadata": {},
   "outputs": [],
   "source": [
    "class BusinessCardParser:\n",
    "  def __init__(self):\n",
    "        pass\n",
    "    \n",
    "  def getContactInfo(self,document):\n",
    "        new_contact_info = ContactInfo(document)\n",
    "        return new_contact_info\n",
    "    "
   ]
  },
  {
   "cell_type": "code",
   "execution_count": 84,
   "metadata": {},
   "outputs": [
    {
     "name": "stdout",
     "output_type": "stream",
     "text": [
      "Name: Mike Smith \n",
      "Phone: 4105551234\n",
      "Email: msmith@asymmetrik.com\n"
     ]
    }
   ],
   "source": [
    "#Will port to regular python later.\n",
    "test_input = \"\"\"ASYMMETRIK LTD\n",
    "Mike Smith\n",
    "Senior Software Engineer\n",
    "(410)555-1234\n",
    "msmith@asymmetrik.com\"\"\"\n",
    "\n",
    "\n",
    "test_ct_info = ContactInfo(test_input)"
   ]
  },
  {
   "cell_type": "code",
   "execution_count": 82,
   "metadata": {},
   "outputs": [
    {
     "name": "stdout",
     "output_type": "stream",
     "text": [
      "Mike Smith \n"
     ]
    }
   ],
   "source": [
    "test_input = \"\"\"ASYMMETRIK LTD\n",
    "Mike Smith\n",
    "Senior Software Engineer\n",
    "(410)555-1234\n",
    "msmith@asymmetrik.com\"\"\"\n",
    "\n",
    "name = \"\"\n",
    "\n",
    "split_doc = test_input.splitlines()\n",
    "\n",
    "for line in split_doc:\n",
    "    annotated_chunks = nltk.ne_chunk(nltk.pos_tag(nltk.word_tokenize(line)))\n",
    "    for single_chunk, source_word  in zip(annotated_chunks, nltk.word_tokenize(line)):\n",
    "            try:\n",
    "                    if single_chunk.label() == \"PERSON\":\n",
    "                        name += source_word\n",
    "                        name += \" \"\n",
    "            except AttributeError:\n",
    "                pass\n",
    "print(name)"
   ]
  },
  {
   "cell_type": "code",
   "execution_count": null,
   "metadata": {},
   "outputs": [],
   "source": [
    " annotated_chunks = nltk.ne_chunk(nltk.pos_tag(nltk.word_tokenize(line)))\n",
    "    for single_chunk in annotated_chunks:\n",
    "            try:\n",
    "                    single_chunk.label() == \"PERSON\"\n",
    "                    self.name += single_chunk\n",
    "                    self.name += \" \"\n",
    "            except AttributeError:\n",
    "                pass\n",
    "    "
   ]
  }
 ],
 "metadata": {
  "kernelspec": {
   "display_name": "Python 3",
   "language": "python",
   "name": "python3"
  },
  "language_info": {
   "codemirror_mode": {
    "name": "ipython",
    "version": 3
   },
   "file_extension": ".py",
   "mimetype": "text/x-python",
   "name": "python",
   "nbconvert_exporter": "python",
   "pygments_lexer": "ipython3",
   "version": "3.7.3"
  }
 },
 "nbformat": 4,
 "nbformat_minor": 2
}
