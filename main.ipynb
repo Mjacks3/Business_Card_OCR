{
 "cells": [
  {
   "cell_type": "code",
   "execution_count": null,
   "metadata": {},
   "outputs": [],
   "source": [
    "\"\"\" \n",
    "Specifications\n",
    "\n",
    "ContactInfo\n",
    "    String getName() : returns the full name of the individual (eg. John Smith, Susan Malick)\n",
    "    String getPhoneNumber() : returns the phone number formatted as a sequence of digits\n",
    "    String getEmailAddress() : returns the email address\n",
    "\n",
    "BusinessCardParser\n",
    "    ContactInfo getContactInfo(String document)\n",
    "\n",
    "\"\"\""
   ]
  },
  {
   "cell_type": "code",
   "execution_count": 18,
   "metadata": {},
   "outputs": [
    {
     "name": "stdout",
     "output_type": "stream",
     "text": [
      "ASYMMETRIK LTD\n",
      "Mike Smith\n",
      "Senior Software Engineer\n",
      "(410)555-1234\n",
      "msmith@asymmetrik.com\n"
     ]
    }
   ],
   "source": [
    "#Will port to regular python later.\n",
    "test = \"\"\"ASYMMETRIK LTD\n",
    "Mike Smith\n",
    "Senior Software Engineer\n",
    "(410)555-1234\n",
    "msmith@asymmetrik.com\"\"\"\n",
    "\n",
    "print (test)\n"
   ]
  },
  {
   "cell_type": "code",
   "execution_count": 25,
   "metadata": {},
   "outputs": [],
   "source": [
    "class ContactInfo:\n",
    "  def __init__(self):\n",
    "        pass\n",
    "    \n",
    "  def getName():\n",
    "        pass\n",
    "    \n",
    "  def getPhoneNumber():\n",
    "        pass\n",
    "    \n",
    "  def getEmailAddress():\n",
    "        pass\n",
    "    \n",
    "  def print_info():\n",
    "        print(\"stub print_info\")\n"
   ]
  },
  {
   "cell_type": "code",
   "execution_count": 26,
   "metadata": {},
   "outputs": [],
   "source": [
    "class BusinessCardParser:\n",
    "  def __init__(self,document):\n",
    "        self.document = document\n",
    "    \n",
    "  def getContactInfo(self):\n",
    "        new_ct_info = ContactInfo()\n",
    "        new_ct_info.print_info()\n",
    "    \n",
    "    "
   ]
  },
  {
   "cell_type": "code",
   "execution_count": 15,
   "metadata": {},
   "outputs": [
    {
     "name": "stdout",
     "output_type": "stream",
     "text": [
      "['ASYMMETRIK LTD', 'Mike Smith', 'Senior Software Engineer', '(410)555-1234', 'msmith@asymmetrik.com']\n"
     ]
    }
   ],
   "source": [
    "#Assumption: businesss card will have each field on a separate line\n",
    "#if so,  use split lines to parse individually\n",
    "print (test.splitlines())"
   ]
  }
 ],
 "metadata": {
  "kernelspec": {
   "display_name": "Python 3",
   "language": "python",
   "name": "python3"
  },
  "language_info": {
   "codemirror_mode": {
    "name": "ipython",
    "version": 3
   },
   "file_extension": ".py",
   "mimetype": "text/x-python",
   "name": "python",
   "nbconvert_exporter": "python",
   "pygments_lexer": "ipython3",
   "version": "3.6.4"
  }
 },
 "nbformat": 4,
 "nbformat_minor": 2
}
